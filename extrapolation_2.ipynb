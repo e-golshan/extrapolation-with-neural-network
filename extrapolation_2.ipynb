{
  "nbformat": 4,
  "nbformat_minor": 0,
  "metadata": {
    "colab": {
      "provenance": []
    },
    "kernelspec": {
      "name": "python3",
      "display_name": "Python 3"
    },
    "language_info": {
      "name": "python"
    }
  },
  "cells": [
    {
      "cell_type": "markdown",
      "source": [
        "In this project we are going to extrapolate some data with neural network"
      ],
      "metadata": {
        "id": "dAnBPLD2Fm4c"
      }
    },
    {
      "cell_type": "markdown",
      "source": [
        "First adding torch library"
      ],
      "metadata": {
        "id": "1-LVkVV7F4jf"
      }
    },
    {
      "cell_type": "code",
      "execution_count": null,
      "metadata": {
        "id": "hVJetqfOxPeh"
      },
      "outputs": [],
      "source": [
        "import torch\n",
        "from torch import nn\n",
        "import random\n",
        "import matplotlib.pyplot as plt"
      ]
    },
    {
      "cell_type": "markdown",
      "source": [
        "Now some data to work with"
      ],
      "metadata": {
        "id": "vz7x_vFvGKNV"
      }
    },
    {
      "cell_type": "code",
      "source": [
        "data = [[1,4],[2,9],[3,15],[4,27],[5,35],[6,50],[7,70],[8,85],[9,100],[10,120]]"
      ],
      "metadata": {
        "id": "j2VC9PD1xm_u"
      },
      "execution_count": null,
      "outputs": []
    },
    {
      "cell_type": "markdown",
      "source": [
        "Defining our network, parameters and type of the loss function"
      ],
      "metadata": {
        "id": "w9gwAuMcGURt"
      }
    },
    {
      "cell_type": "code",
      "source": [
        "model = nn.Sequential(nn.Linear(1,7),nn.Linear(7,6),nn.Sigmoid(),nn.Linear(6,5),nn.Sigmoid(),nn.Linear(5,3))\n",
        "criterion = nn.MSELoss()\n",
        "optimizer = torch.optim.SGD(model.parameters(),lr=0.03,momentum=0.9)"
      ],
      "metadata": {
        "id": "Zm4TtudSxrNV"
      },
      "execution_count": null,
      "outputs": []
    },
    {
      "cell_type": "markdown",
      "source": [
        "Start training and ploting loss value each time"
      ],
      "metadata": {
        "id": "PhdOz829GhFd"
      }
    },
    {
      "cell_type": "markdown",
      "source": [
        "The model is going to be trained in which the output parameters will become the coefficients of our desired extrapolating function. Here we want to extrapolate the data with a polynomial of degree 2."
      ],
      "metadata": {
        "id": "Vh0GxbTgGrSs"
      }
    },
    {
      "cell_type": "code",
      "source": [
        "\n",
        "loss_list=[]\n",
        "\n",
        "N = 5000\n",
        "for j in range(N):\n",
        "\n",
        "    i = random.randint(0, 9)\n",
        "\n",
        "    x = float(data[i][0])/100\n",
        "\n",
        "    y = float(data[i][1])\n",
        "\n",
        "    out_model_1 , out_model_2, out_model_3 = model(torch.tensor([x]))\n",
        "\n",
        "    A = out_model_1.squeeze()\n",
        "    B = out_model_2.squeeze()\n",
        "    C = out_model_3.squeeze()\n",
        "\n",
        "    loss = criterion((A*x**2+B*x+C), torch.tensor([y]))\n",
        "\n",
        "    loss_list.append(loss.item())\n",
        "\n",
        "    optimizer.zero_grad()\n",
        "    loss.backward()\n",
        "    optimizer.step()\n",
        "\n",
        "plt.plot(loss_list)\n"
      ],
      "metadata": {
        "colab": {
          "base_uri": "https://localhost:8080/",
          "height": 447
        },
        "id": "4lpNSKt3xspt",
        "outputId": "2889eab1-dc8d-4364-a24f-44528fb523d3"
      },
      "execution_count": null,
      "outputs": [
        {
          "output_type": "execute_result",
          "data": {
            "text/plain": [
              "[<matplotlib.lines.Line2D at 0x7f078e575780>]"
            ]
          },
          "metadata": {},
          "execution_count": 138
        },
        {
          "output_type": "display_data",
          "data": {
            "text/plain": [
              "<Figure size 640x480 with 1 Axes>"
            ],
            "image/png": "[encoded data removed]"
          },
          "metadata": {}
        }
      ]
    },
    {
      "cell_type": "markdown",
      "source": [
        "By using some external parameters, we can normalize our desired coefficients."
      ],
      "metadata": {
        "id": "M_SnExThHO83"
      }
    },
    {
      "cell_type": "code",
      "source": [
        "loss_list[-1], A.item()/10000, B.item()/100, C.item()"
      ],
      "metadata": {
        "colab": {
          "base_uri": "https://localhost:8080/"
        },
        "id": "2lKF24uOxwY-",
        "outputId": "1deb9d71-cbb1-4e28-81e9-74d9c65d28b9"
      },
      "execution_count": null,
      "outputs": [
        {
          "output_type": "execute_result",
          "data": {
            "text/plain": [
              "(61.13312530517578, 0.021792324829101564, 12.8967578125, -22.209827423095703)"
            ]
          },
          "metadata": {},
          "execution_count": 139
        }
      ]
    },
    {
      "cell_type": "markdown",
      "source": [
        "Now ploting the data and the desired extrapolating function."
      ],
      "metadata": {
        "id": "C6icfJVoHbb0"
      }
    },
    {
      "cell_type": "code",
      "source": [
        "import numpy as np\n",
        "\n",
        "for i in data:\n",
        "    plt.scatter(i[0],i[1])  # dots are the data\n",
        "\n",
        "a,b,c = A.item()/10000, B.item()/100, C.item()\n",
        "z = np.linspace(1, 11, 100)\n",
        "plt.plot(z, (a*(z**2)+b*(z)+c)) # continuous curve is the polynomial"
      ],
      "metadata": {
        "colab": {
          "base_uri": "https://localhost:8080/",
          "height": 447
        },
        "id": "nqjJLuVcxxp2",
        "outputId": "e00b9fe0-e167-4c0a-9119-5ebc72a922e5"
      },
      "execution_count": null,
      "outputs": [
        {
          "output_type": "execute_result",
          "data": {
            "text/plain": [
              "[<matplotlib.lines.Line2D at 0x7f078e40d3f0>]"
            ]
          },
          "metadata": {},
          "execution_count": 140
        },
        {
          "output_type": "display_data",
          "data": {
            "text/plain": [
              "<Figure size 640x480 with 1 Axes>"
            ],
            "image/png": "[encoded data removed]"
          },
          "metadata": {}
        }
      ]
    },
    {
      "cell_type": "markdown",
      "source": [
        "Now checking our work with defult function \"polyregress\"."
      ],
      "metadata": {
        "id": "HRAV4oBQHnk9"
      }
    },
    {
      "cell_type": "code",
      "source": [
        "data = [[1,4],[2,9],[3,15],[4,27],[5,35],[6,50],[7,70],[8,85],[9,100],[10,120]]\n",
        "xdata = [1,2,3,4,5,6,7,8,9,10]\n",
        "ydata = [4,9,15,27,35,50,70,85,100,120]"
      ],
      "metadata": {
        "id": "yWFTAWDfxzGe"
      },
      "execution_count": null,
      "outputs": []
    },
    {
      "cell_type": "code",
      "source": [
        "def polyregress(xdata,ydata,degree):\n",
        "  return np.polynomial.polynomial.polyfit(xdata,ydata,degree)\n",
        "polyregress(xdata,ydata,2)"
      ],
      "metadata": {
        "colab": {
          "base_uri": "https://localhost:8080/"
        },
        "id": "tYeV-g-Rx0YX",
        "outputId": "2c88adf6-f073-4547-f375-59f85bd6c439"
      },
      "execution_count": null,
      "outputs": [
        {
          "output_type": "execute_result",
          "data": {
            "text/plain": [
              "array([-1.75      ,  3.55681818,  0.875     ])"
            ]
          },
          "metadata": {},
          "execution_count": 142
        }
      ]
    },
    {
      "cell_type": "markdown",
      "source": [
        "error of polyregress:\n",
        "\n",
        "when degree is 2 : 2.2\n",
        "\n",
        "when degree is 1 : 7.44\n",
        "\n",
        "it means that our model predicted better than polyfit even degree 1 and degree 2."
      ],
      "metadata": {
        "id": "5iZWzRExHz1s"
      }
    },
    {
      "cell_type": "markdown",
      "source": [
        "Although neural network and polyregress uses same error formula, which is MSE, but there is a difference. The neural network uses activation function between each layers. So the more important nodes will get higher weights and because of this the neural network takes the coefficient of x**2 much less and somehow it interpreted the data as a linear function.\n",
        "But does the polyregress function has better precision with a linear function ( degree 1) ? No, we saw the error of that later.\n",
        "So, the neural network finds a better polynomial, which is indeed degree 2, but in this domain values it is rather a degree 1 function."
      ],
      "metadata": {
        "id": "lNsmNObdI6f0"
      }
    },
    {
      "cell_type": "markdown",
      "source": [
        "What if the data is like an expotential function?"
      ],
      "metadata": {
        "id": "WJhhuU3mIsTj"
      }
    },
    {
      "cell_type": "markdown",
      "source": [
        "Using another network for this problem."
      ],
      "metadata": {
        "id": "IapH_RA2KmKk"
      }
    },
    {
      "cell_type": "code",
      "source": [
        "import torch\n",
        "from torch import nn\n",
        "import random\n",
        "import matplotlib.pyplot as plt"
      ],
      "metadata": {
        "id": "TMj-2xWzzKAd"
      },
      "execution_count": null,
      "outputs": []
    },
    {
      "cell_type": "code",
      "source": [
        "data2 = [[1,2],[2,4],[3,8],[4,15],[5,30],[6,70],[7,130],[8,300],[9,500],[10,1000]]"
      ],
      "metadata": {
        "id": "pVzWoGAtzM_O"
      },
      "execution_count": null,
      "outputs": []
    },
    {
      "cell_type": "code",
      "source": [
        "model2 = nn.Sequential(nn.Linear(1,7),nn.Linear(7,6),nn.Sigmoid(),nn.Linear(6,5),nn.Sigmoid(),nn.Linear(5,3))\n",
        "criterion = nn.MSELoss()\n",
        "optimizer = torch.optim.SGD(model.parameters(),lr=0.005,momentum=0.9)"
      ],
      "metadata": {
        "id": "OesrNvXkzf2H"
      },
      "execution_count": null,
      "outputs": []
    },
    {
      "cell_type": "code",
      "source": [
        "\n",
        "loss2_list=[]\n",
        "\n",
        "\n",
        "for j in range(2000):\n",
        "\n",
        "    i = random.randint(0, 9)\n",
        "\n",
        "    x = float(data2[i][0])/1000\n",
        "\n",
        "    y = float(data2[i][1])/1000\n",
        "\n",
        "    out_model2_1 , out_model2_2, out_model2_3 = model2(torch.tensor([x]))\n",
        "\n",
        "    A2 = out_model2_1.squeeze()\n",
        "    B2 = out_model2_2.squeeze()\n",
        "    C2 = out_model2_3.squeeze()\n",
        "\n",
        "    loss = criterion((A2*x**2+B2*x+C2), torch.tensor([y]))\n",
        "\n",
        "    loss2_list.append(loss.item())\n",
        "\n",
        "    optimizer.zero_grad()\n",
        "    loss.backward()\n",
        "    optimizer.step()\n",
        "\n",
        "plt.plot(loss2_list)\n"
      ],
      "metadata": {
        "colab": {
          "base_uri": "https://localhost:8080/",
          "height": 447
        },
        "id": "ndzlT5_mzgsf",
        "outputId": "5f7b0a46-30d6-4952-ceff-b32593a54459"
      },
      "execution_count": null,
      "outputs": [
        {
          "output_type": "execute_result",
          "data": {
            "text/plain": [
              "[<matplotlib.lines.Line2D at 0x7f078d1ded40>]"
            ]
          },
          "metadata": {},
          "execution_count": 232
        },
        {
          "output_type": "display_data",
          "data": {
            "text/plain": [
              "<Figure size 640x480 with 1 Axes>"
            ],
            "image/png": "[encoded data removed]"
          },
          "metadata": {}
        }
      ]
    },
    {
      "cell_type": "code",
      "source": [
        "loss2_list[-1]"
      ],
      "metadata": {
        "colab": {
          "base_uri": "https://localhost:8080/"
        },
        "id": "DVEvCJmtzq9k",
        "outputId": "4967f257-1d56-40c8-d8fb-b1d2ebb72997"
      },
      "execution_count": null,
      "outputs": [
        {
          "output_type": "execute_result",
          "data": {
            "text/plain": [
              "0.058680228888988495"
            ]
          },
          "metadata": {},
          "execution_count": 233
        }
      ]
    },
    {
      "cell_type": "code",
      "source": [
        "data2 = [[1,2],[2,4],[3,8],[4,15],[5,30],[6,70],[7,130],[8,300],[9,500],[10,1000]]\n",
        "xdata2=[]\n",
        "ydata2=[]\n",
        "for j in data2:\n",
        "    xdata2.append(j[0]/1000)\n",
        "    ydata2.append(j[1]/1000)\n",
        "xdata2 ,ydata2"
      ],
      "metadata": {
        "colab": {
          "base_uri": "https://localhost:8080/"
        },
        "id": "gCc-F26izvwE",
        "outputId": "3fef199a-4df8-4aa1-cc7e-ff86070a1465"
      },
      "execution_count": null,
      "outputs": [
        {
          "output_type": "execute_result",
          "data": {
            "text/plain": [
              "([0.001, 0.002, 0.003, 0.004, 0.005, 0.006, 0.007, 0.008, 0.009, 0.01],\n",
              " [0.002, 0.004, 0.008, 0.015, 0.03, 0.07, 0.13, 0.3, 0.5, 1.0])"
            ]
          },
          "metadata": {},
          "execution_count": 212
        }
      ]
    },
    {
      "cell_type": "code",
      "source": [
        "np.polynomial.polynomial.polyfit(xdata2,ydata2,2)\n"
      ],
      "metadata": {
        "colab": {
          "base_uri": "https://localhost:8080/"
        },
        "id": "k81TGUovzxZM",
        "outputId": "a77e4d45-3d3a-4136-b093-9c26007ba9d4"
      },
      "execution_count": null,
      "outputs": [
        {
          "output_type": "execute_result",
          "data": {
            "text/plain": [
              "array([ 2.19016667e-01, -1.58214394e+02,  2.22613636e+04])"
            ]
          },
          "metadata": {},
          "execution_count": 213
        }
      ]
    },
    {
      "cell_type": "markdown",
      "source": [
        "error of polyfit:\n",
        "\n",
        "error of degree 2 : 0.08\n",
        "\n",
        "neural network error: 0.058 !!!\n",
        "\n",
        "it shows that neural network extrapolates better!"
      ],
      "metadata": {
        "id": "PXodaeqfKyFz"
      }
    }
  ]
}